{
 "cells": [
  {
   "cell_type": "code",
   "execution_count": 1,
   "metadata": {},
   "outputs": [],
   "source": [
    "#Import Packages\n",
    "import pandas_datareader.data as web\n",
    "import numpy as np\n",
    "import pandas as pd\n",
    "import matplotlib.pyplot as plt\n",
    "import seaborn\n",
    "import yfinance as yf\n"
   ]
  },
  {
   "cell_type": "code",
   "execution_count": 2,
   "metadata": {},
   "outputs": [],
   "source": [
    "#Define Data\n",
    "asset = ['X',\n",
    "         'aapl',\n",
    "         'INTC',\n",
    "         'TSLA']"
   ]
  },
  {
   "cell_type": "code",
   "execution_count": 3,
   "metadata": {},
   "outputs": [
    {
     "name": "stdout",
     "output_type": "stream",
     "text": [
      "                 AAPL       INTC       TSLA          X\n",
      "Date                                                  \n",
      "2018-12-31  39.435001  46.930000  66.559998  18.240000\n",
      "2019-01-02  39.480000  47.080002  62.023998  18.510000\n",
      "2019-01-03  35.547501  44.490002  60.071999  18.480000\n",
      "2019-01-04  37.064999  47.220001  63.537998  20.340000\n",
      "2019-01-07  36.982498  47.439999  66.991997  20.450001\n"
     ]
    }
   ],
   "source": [
    "#Download data \n",
    "dataset = yf.download(asset, \n",
    "                      start='2019-01-01', \n",
    "                      end='2022-04-18', \n",
    "                      progress=False,\n",
    ")['Close']\n",
    "\n",
    "dataset.head()\n",
    "dataset.sort_index(inplace=True)\n",
    "print(dataset.head())"
   ]
  },
  {
   "cell_type": "code",
   "execution_count": 4,
   "metadata": {},
   "outputs": [
    {
     "name": "stdout",
     "output_type": "stream",
     "text": [
      "                AAPL      INTC      TSLA         X\n",
      "Date                                              \n",
      "2018-12-31       NaN       NaN       NaN       NaN\n",
      "2019-01-02  0.001141  0.003196 -0.068149  0.014803\n",
      "2019-01-03 -0.099607 -0.055013 -0.031472 -0.001621\n",
      "2019-01-04  0.042689  0.061362  0.057697  0.100649\n",
      "2019-01-07 -0.002226  0.004659  0.054361  0.005408\n",
      "             AAPL        INTC        TSLA           X\n",
      "count  829.000000  829.000000  829.000000  829.000000\n",
      "mean     0.001957    0.000267    0.004150    0.001743\n",
      "std      0.021292    0.024373    0.042364    0.042305\n",
      "min     -0.128647   -0.180415   -0.210628   -0.170319\n",
      "25%     -0.007926   -0.009641   -0.017254   -0.022578\n",
      "50%      0.001517    0.000000    0.002618    0.000000\n",
      "75%      0.013055    0.011454    0.023581    0.024331\n",
      "max      0.119808    0.195213    0.198949    0.232699\n"
     ]
    }
   ],
   "source": [
    "#Returns and Statistics\n",
    "returns = dataset.pct_change()\n",
    "print(returns.head())\n",
    "print(returns.describe())\n"
   ]
  },
  {
   "cell_type": "code",
   "execution_count": 5,
   "metadata": {},
   "outputs": [
    {
     "name": "stdout",
     "output_type": "stream",
     "text": [
      "          AAPL      INTC      TSLA         X\n",
      "AAPL  1.000000  0.566024  0.459934  0.251484\n",
      "INTC  0.566024  1.000000  0.360170  0.300486\n",
      "TSLA  0.459934  0.360170  1.000000  0.262167\n",
      "X     0.251484  0.300486  0.262167  1.000000\n"
     ]
    },
    {
     "data": {
      "image/png": "[encoded data removed]",
      "text/plain": [
       "<Figure size 432x288 with 2 Axes>"
      ]
     },
     "metadata": {
      "needs_background": "light"
     },
     "output_type": "display_data"
    }
   ],
   "source": [
    "#Correlation\n",
    "returns.corr()\n",
    "print(returns.corr())\n",
    "mask = np.zeros_like(returns.corr())\n",
    "mask[np.triu_indices_from(mask)] = True\n",
    "seaborn.heatmap(returns.corr(), cmap='RdYlGn', vmax=1.0, vmin=-1.0 , mask = mask, linewidths=0.5)\n",
    "plt.yticks(rotation=0) \n",
    "plt.xticks(rotation=90) \n",
    "plt.show()"
   ]
  }
 ],
 "metadata": {
  "kernelspec": {
   "display_name": "Python 3",
   "language": "python",
   "name": "python3"
  },
  "language_info": {
   "codemirror_mode": {
    "name": "ipython",
    "version": 3
   },
   "file_extension": ".py",
   "mimetype": "text/x-python",
   "name": "python",
   "nbconvert_exporter": "python",
   "pygments_lexer": "ipython3",
   "version": "3.8.5"
  }
 },
 "nbformat": 4,
 "nbformat_minor": 4
}
